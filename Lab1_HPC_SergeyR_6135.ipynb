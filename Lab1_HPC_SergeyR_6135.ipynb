{
  "nbformat": 4,
  "nbformat_minor": 0,
  "metadata": {
    "colab": {
      "name": "Lab1_HPC.ipynb",
      "provenance": [],
      "collapsed_sections": []
    },
    "kernelspec": {
      "name": "python3",
      "display_name": "Python 3"
    },
    "accelerator": "GPU"
  },
  "cells": [
    {
      "cell_type": "code",
      "metadata": {
        "id": "KqCBpwnET69I"
      },
      "source": [
        ""
      ],
      "execution_count": 16,
      "outputs": []
    },
    {
      "cell_type": "markdown",
      "metadata": {
        "id": "dhRBo4FefbQt"
      },
      "source": [
        "**Лабораторная работа 1 по курсу ОВВ**\n",
        "Lab1_HPC\n",
        "\n",
        "Выполнил_Sergey.R 6135\n",
        "\n",
        "Среда выполнения \"google colaboratory\"\n",
        "\n",
        "В данной работе реализовано перемножение матриц как на GPU и CPU\n",
        "CPU: Intel(R) Xeon(R) CPU @ 2.20GHz\n",
        "GPU:  Nvidia Tesla K80\n",
        "В качестве основной вычислительной библиотеки использована cupy"
      ]
    },
    {
      "cell_type": "markdown",
      "metadata": {
        "id": "v9EwqhIrUjUR"
      },
      "source": [
        ""
      ]
    },
    {
      "cell_type": "code",
      "metadata": {
        "id": "Kj4SWwq4UkGT"
      },
      "source": [
        "# Библиотеки\n",
        "import numpy as np\n",
        "import cupy as cp\n",
        "import time\n",
        "# Библиотека для визуализации\n",
        "import matplotlib.pyplot as plt\n",
        "# Библиотека для работы с эксель\n",
        "from openpyxl import Workbook\n",
        "from datetime import datetime"
      ],
      "execution_count": 17,
      "outputs": []
    },
    {
      "cell_type": "code",
      "metadata": {
        "id": "PstfnsdVVDHD"
      },
      "source": [
        "# Параметры запуска\n",
        "MatSizeStart = 100\n",
        "MatSizeEnd = 2001\n",
        "MatStepSize = 100\n",
        "path_file = 'results_tab'"
      ],
      "execution_count": 18,
      "outputs": []
    },
    {
      "cell_type": "code",
      "metadata": {
        "id": "_VYHZIomVD1y"
      },
      "source": [
        "class CoreDot():\n",
        "    # главный класс\n",
        "    def __init__(self,size,results_tab,path_file):\n",
        "        self.size = size\n",
        "        self.results_tab = results_tab\n",
        "        self.path_file = path_file\n",
        "\t\t\n",
        "    def perfom_experiment(self):\n",
        "        #Основные вычисления, перебор матриц заданных размеров, формирование результатов\n",
        "        for index in range(len(self.size)):\n",
        "            self.results_tab[0, index]=self.size[index]\n",
        "\t\t\t\n",
        "\t\t       \t# Создание матрицы через numpy\n",
        "\t          # 'f' определяет способ располож матрицы в памяти column-major \n",
        "            matrix_a = np.ones((self.size[index], self.size[index]), 'f') \n",
        "            matrix_b = np.ones((self.size[index], self.size[index]), 'f')\n",
        "\t\t\t\n",
        "\t\t      \t# перемножение матриц cpu\n",
        "            tstartCPU = time.time()\n",
        "            dot_product_cpu = np.dot(matrix_a, matrix_b)\n",
        "            tendCPU = time.time()\n",
        "            self.results_tab[1, index] = tendCPU - tstartCPU\n",
        "         \n",
        "\t\t      \t# Создание матрицы через cupy\n",
        "            matrix_a = cp.ones((self.size[index],self.size[index]), 'f') \n",
        "            matrix_b = cp.ones((self.size[index], self.size[index]), 'f')\t\t\n",
        "\t\t\t\n",
        "\t\t      \t# перемножение матриц gpu\n",
        "            tstartGPU = time.time()\n",
        "            dot_product_gpu = cp.dot(matrix_a, matrix_b)\n",
        "            tendGPU = time.time()\n",
        "            self.results_tab[2, index] = tendGPU - tstartGPU\n",
        "           \n",
        "            # Ускорение относительно CPU\n",
        "            self.results_tab[3, index] = (self.results_tab[1, index] / self.results_tab[2, index])\n",
        "            \n",
        "\t\t      \t# проверку точности выполняем спомощью вычисления разницы между \"эталонной\" и \"результирующей\" матрицей.\n",
        "            # Проверка точности CPU\n",
        "            check_matrixCPU = np.ones((self.size[index], self.size[index]), 'f') * self.size[index]\n",
        "            deviation_matrix = dot_product_cpu - check_matrixCPU\t\t\t\n",
        "            self.results_tab[4, index] = np.absolute(deviation_matrix).argmax() \n",
        "            # Проверка точности GPU\n",
        "            check_matrixGPU = cp.ones((self.size[index], self.size[index]), 'f') * self.size[index]\n",
        "            deviation_matrix = dot_product_gpu - check_matrixGPU\n",
        "            self.results_tab[5, index] = np.absolute(deviation_matrix).argmax()\n",
        "\n",
        "\n",
        "    def save_computations(self):\n",
        "        # Создать рабочую книгу в Excel:\n",
        "        dt = datetime.now()\n",
        "        wb = Workbook()\n",
        "        sheet = wb.active\n",
        "        sheet.title = self.path_file\n",
        "\n",
        "        # Добавить заголовки в рабочую книгу Excel:\n",
        "         \n",
        "        sheet['A' + str(1)] = 'Размер матрицы'\n",
        "        sheet['B' + str(1)] = 'Время вычисления CPU, с'\n",
        "        sheet['C' + str(1)] = 'Время вычисления GPU, с'     \n",
        "        sheet['D' + str(1)] = 'Ускорение GPU относительно CPU'\n",
        "        sheet['E' + str(1)] = 'Точность CPU'\n",
        "        sheet['F' + str(1)] = 'Точность GPU'\n",
        "\t   # Заносим данные в таблицу\n",
        "        t=0\n",
        "        for item in self.results_tab:\n",
        "            for j in range(len(item)):\n",
        "                if (t==0): sheet['A' + str(j+2)] = item[j]\n",
        "                elif (t==1): sheet['B' + str(j + 2)] = item[j]\n",
        "                elif (t==2): sheet['C' + str(j + 2)] = item[j] \n",
        "                elif (t==3): sheet['D' + str(j + 2)] = item[j]\n",
        "                elif (t==4): sheet['E' + str(j + 2)] = item[j]   \t\t\t\t\n",
        "                else: sheet['F' + str(j + 2)] = item[j]\n",
        "            t=t+1\n",
        "\t\t\t\n",
        "        # Сохраняем таблицу:\n",
        "        filename = self.path_file + '.xlsx'\n",
        "        wb.save(filename)\n",
        "\n",
        "\n",
        "    def plot_results(self):\n",
        "        #  Визуализация\n",
        "        fig = plt.figure()\n",
        "        ax = fig.add_subplot(1, 1, 1)\n",
        "        ax.set_title(u'Результаты эксперимента:')\n",
        "        \n",
        "        plt.xlabel(\"Размер матриц\", fontsize=14, fontstyle=\"normal\")\n",
        "        plt.ylabel(\"Время расчета, с\", fontsize=14, fontstyle=\"normal\")\n",
        "        ax.plot(self.results_tab[0, :], self.results_tab[1, :], 'ko-', color='grey', label=r'$CPU$')\n",
        "        ax.plot(self.results_tab[0, :], self.results_tab[2, :], 'gs-', color='green', label=r'$GPU$') \n",
        "        ax.legend(loc='best')\n",
        "        fig.savefig('Result visual.jpeg')\n",
        "        fig.show()"
      ],
      "execution_count": 19,
      "outputs": []
    },
    {
      "cell_type": "code",
      "metadata": {
        "id": "S2EBIB2OfL2l"
      },
      "source": [
        ""
      ],
      "execution_count": 19,
      "outputs": []
    },
    {
      "cell_type": "code",
      "metadata": {
        "id": "IvG6keijegFa",
        "outputId": "758db446-6ece-49dd-d0fe-d78d31a9c84c",
        "colab": {
          "base_uri": "https://localhost:8080/",
          "height": 299
        }
      },
      "source": [
        "# Объявляем буфер для хранения размеров матриц \n",
        "size = []\n",
        "\n",
        "# создание множества матриц для эксперимента\n",
        "[size.append(idx) for idx in range(MatSizeStart,MatSizeEnd,MatStepSize)]\n",
        "results_tab = np.zeros((6,len(size)))\n",
        "\n",
        "experim_dot = CoreDot(size,results_tab,path_file) # запуск эксперимента\n",
        "experim_dot.perfom_experiment()\n",
        "experim_dot.plot_results()\n",
        "experim_dot.save_computations()\n"
      ],
      "execution_count": 20,
      "outputs": [
        {
          "output_type": "display_data",
          "data": {
            "image/png": "[encoded data removed]",
            "text/plain": [
              "<Figure size 432x288 with 1 Axes>"
            ]
          },
          "metadata": {
            "tags": [],
            "needs_background": "light"
          }
        }
      ]
    },
    {
      "cell_type": "code",
      "metadata": {
        "id": "5dRZuiCmegZC"
      },
      "source": [
        ""
      ],
      "execution_count": 20,
      "outputs": []
    }
  ]
}